{
 "cells": [
  {
   "cell_type": "code",
   "execution_count": 9,
   "metadata": {},
   "outputs": [],
   "source": [
    "import pandas as pd\n",
    "import numpy as np\n",
    "import matplotlib.pyplot as plt\n",
    "import seaborn as sns\n",
    "import geopandas as gpd\n"
   ]
  },
  {
   "cell_type": "code",
   "execution_count": 46,
   "metadata": {},
   "outputs": [],
   "source": [
    "# Read in the data\n",
    "df = pd.read_pickle('df_persons_wsltur_with_entropy_19_12.pkl')\n",
    "# df_orig = pd.read_dataframe('df_persons_wsltur_with_entropy6.pkl')"
   ]
  },
  {
   "cell_type": "code",
   "execution_count": 47,
   "metadata": {},
   "outputs": [
    {
     "data": {
      "text/plain": [
       "Index(['Original_Index', 'Log_income', 'Household_size', 'Q14_12', 'Q8',\n",
       "       'Medium_number', 'Small_number', 'Off_road_number', 'Luxury_number',\n",
       "       'Van_number', 'Distance_to_scotiabank_tower', 'Number_cars', 'Gasoline',\n",
       "       'Residential_underground_number', 'Garage_number', 'Surface_lot_number',\n",
       "       'Residential_on_street_number', 'Indoor_public_number',\n",
       "       'Parking_cost_per_slot', 'Distance_to_closest_subway_station',\n",
       "       'Length_of_cycle_lanes_within_radius',\n",
       "       'Distance_to_closest_bus_station', 'Number_cars_level',\n",
       "       'Log_distance_to_scotia_plaza', 'Car_driver_mode_share',\n",
       "       'Car_passenger_mode_share', 'Public_transit_mode_share',\n",
       "       'Walk_mode_share', 'Bike_mode_share', 'Log_median_rent',\n",
       "       'Log_average_rent', 'Log_median_mortgage', 'Log_average_mortgage',\n",
       "       'Apartment percentage', 'Median_year', 'Popn_density',\n",
       "       'Medium_number_restricted', 'Small_number_restricted',\n",
       "       'Off_road_number_restricted', 'Luxury_number_restricted',\n",
       "       'Van_number_restricted', 'LocationLongitude', 'LocationLatitude',\n",
       "       'distance_nearest_mall', 'distance_nearest_supermarket',\n",
       "       'distance_nearest_convenience', 'distance_nearest_outdoor_shop',\n",
       "       'distance_nearest_kiosk', 'distance_nearest_greengrocer',\n",
       "       'distance_nearest_butcher', 'distance_nearest_hospital',\n",
       "       'distance_nearest_clinic', 'distance_nearest_doctors',\n",
       "       'distance_nearest_fast_food', 'distance_nearest_restaurant',\n",
       "       'distance_nearest_cafe', 'distance_nearest_pub', 'distance_nearest_bar',\n",
       "       'distance_nearest_food_court', 'distance_nearest_golf_course',\n",
       "       'distance_nearest_pitch', 'distance_nearest_park',\n",
       "       'distance_nearest_playground', 'distance_nearest_dog_park',\n",
       "       'distance_nearest_ice_rink', 'distance_nearest_swimming_pool',\n",
       "       'distance_nearest_sports_centre', 'distance_nearest_school',\n",
       "       'distance_nearest_university', 'distance_nearest_college',\n",
       "       'distance_nearest_kindergarten', 'distance_nearest_community_centre',\n",
       "       'distance_nearest_stadium', 'distance_nearest_attraction',\n",
       "       'distance_nearest_theatre', 'distance_nearest_cinema',\n",
       "       'distance_nearest_museum', 'distance_nearest_arts_centre',\n",
       "       'distance_nearest_library', 'distance_nearest_hairdresser',\n",
       "       'distance_nearest_bank', 'distance_nearest_atm', 'Shopping_distance',\n",
       "       'Health_distance', 'Restaurants_distance', 'Exercise_distance',\n",
       "       'Entertainment_distance', 'Cultural_distance', 'pc1', 'pc2', 'pc3',\n",
       "       'pc4', 'pc5', 'pc6', 'pc7', 'pc8', 'geometry', 'entropy', 'buffer',\n",
       "       'num_pois_within_radius'],\n",
       "      dtype='object')"
      ]
     },
     "execution_count": 47,
     "metadata": {},
     "output_type": "execute_result"
    }
   ],
   "source": [
    "df.columns"
   ]
  },
  {
   "cell_type": "code",
   "execution_count": 12,
   "metadata": {},
   "outputs": [],
   "source": [
    "df_orig = pd.read_excel(r'C:\\Users\\mwendwa.kiko\\Documents\\Personal_Kiko\\Old_UofT\\Research\\Roschlau Fellowship\\THATS Survey Outputs\\1. Collected Data\\Sign-Up and Daily Surveys\\Sign-Up Survey_September 1_modified.xlsx')"
   ]
  },
  {
   "cell_type": "code",
   "execution_count": 13,
   "metadata": {},
   "outputs": [],
   "source": [
    "df_orig.rename(columns={'Q3_11': 'Household_size', 'Q43.1': 'Number_cars'}, inplace=True)\n"
   ]
  },
  {
   "cell_type": "markdown",
   "metadata": {},
   "source": [
    "Number of children"
   ]
  },
  {
   "cell_type": "code",
   "execution_count": 23,
   "metadata": {},
   "outputs": [
    {
     "data": {
      "text/plain": [
       "0    4370\n",
       "1     268\n",
       "2     124\n",
       "3      16\n",
       "4       1\n",
       "Name: Children_in_elementary, dtype: int64"
      ]
     },
     "execution_count": 23,
     "metadata": {},
     "output_type": "execute_result"
    }
   ],
   "source": [
    "df_orig['Children_in_elementary'] = df_orig.loc[:, 'Q105':'Q115'].apply(\n",
    "    lambda row: row.str.contains('Kindergarten to Grade 6').sum(), axis=1)\n",
    "df_orig['Children_in_elementary'].value_counts()"
   ]
  },
  {
   "cell_type": "code",
   "execution_count": 19,
   "metadata": {},
   "outputs": [
    {
     "data": {
      "text/plain": [
       "0    4658\n",
       "1     117\n",
       "2       4\n",
       "Name: Children_in_middle_school, dtype: int64"
      ]
     },
     "execution_count": 19,
     "metadata": {},
     "output_type": "execute_result"
    }
   ],
   "source": [
    "df_orig['Children_in_middle_school'] = df_orig.loc[:, 'Q105':'Q115'].apply(\n",
    "    lambda row: row.str.contains('Grades 7 to 8').sum(), axis=1)\n",
    "df_orig['Children_in_middle_school'].value_counts()"
   ]
  },
  {
   "cell_type": "code",
   "execution_count": 20,
   "metadata": {},
   "outputs": [
    {
     "data": {
      "text/plain": [
       "0    4562\n",
       "1     191\n",
       "2      24\n",
       "3       2\n",
       "Name: Children_in_high_school, dtype: int64"
      ]
     },
     "execution_count": 20,
     "metadata": {},
     "output_type": "execute_result"
    }
   ],
   "source": [
    "df_orig['Children_in_high_school'] = df_orig.loc[:, 'Q105':'Q115'].apply(\n",
    "    lambda row: row.str.contains('Grades 9 to 12').sum(), axis=1)\n",
    "df_orig['Children_in_high_school'].value_counts()"
   ]
  },
  {
   "cell_type": "code",
   "execution_count": 24,
   "metadata": {},
   "outputs": [],
   "source": [
    "df_orig['Minor_children_total'] = (df_orig['Children_in_preschool'] + df_orig['Children_in_elementary'] \n",
    "                                   + df_orig['Children_in_middle_school'] + df_orig['Children_in_high_school'])"
   ]
  },
  {
   "cell_type": "markdown",
   "metadata": {},
   "source": [
    "Licenced Adults"
   ]
  },
  {
   "cell_type": "code",
   "execution_count": 25,
   "metadata": {},
   "outputs": [
    {
     "data": {
      "text/plain": [
       "Yes    2847\n",
       "No      347\n",
       "Name: Q116, dtype: int64"
      ]
     },
     "execution_count": 25,
     "metadata": {},
     "output_type": "execute_result"
    }
   ],
   "source": [
    "df_orig['Q116'].value_counts()"
   ]
  },
  {
   "cell_type": "code",
   "execution_count": 26,
   "metadata": {},
   "outputs": [
    {
     "data": {
      "text/plain": [
       "0    1789\n",
       "2    1614\n",
       "1    1057\n",
       "3     226\n",
       "4      76\n",
       "5      13\n",
       "8       2\n",
       "6       2\n",
       "Name: Licensed_adults, dtype: int64"
      ]
     },
     "execution_count": 26,
     "metadata": {},
     "output_type": "execute_result"
    }
   ],
   "source": [
    "df_orig['Licensed_adults'] = df_orig.loc[:, 'Q116':'Q126'].apply(\n",
    "    lambda row: row.str.contains('Yes').sum(), axis=1)\n",
    "df_orig['Licensed_adults'].value_counts()"
   ]
  },
  {
   "cell_type": "markdown",
   "metadata": {},
   "source": [
    "Race"
   ]
  },
  {
   "cell_type": "code",
   "execution_count": 27,
   "metadata": {},
   "outputs": [
    {
     "data": {
      "text/plain": [
       "False    2702\n",
       "True     2077\n",
       "Name: Family_white, dtype: int64"
      ]
     },
     "execution_count": 27,
     "metadata": {},
     "output_type": "execute_result"
    }
   ],
   "source": [
    "df_orig['Family_white'] = df_orig.loc[:, 'Q14_1':'Q14_11'].apply(\n",
    "    lambda row: row.str.contains('White').all(), axis=1)\n",
    "df_orig['Family_white'].value_counts()"
   ]
  },
  {
   "cell_type": "markdown",
   "metadata": {},
   "source": [
    "Number of Employed"
   ]
  },
  {
   "cell_type": "code",
   "execution_count": 29,
   "metadata": {},
   "outputs": [
    {
     "data": {
      "text/plain": [
       "0    2354\n",
       "1    1277\n",
       "2    1064\n",
       "3      70\n",
       "4      13\n",
       "8       1\n",
       "Name: Number_employed_full_time, dtype: int64"
      ]
     },
     "execution_count": 29,
     "metadata": {},
     "output_type": "execute_result"
    }
   ],
   "source": [
    "df_orig['Number_employed_full_time'] = df_orig.loc[:, 'Q28':'Q38'].apply(\n",
    "    lambda row: row.str.contains('Employed (Full-time)', regex=False).sum(), axis=1)\n",
    "df_orig['Number_employed_full_time'].value_counts()"
   ]
  },
  {
   "cell_type": "code",
   "execution_count": 30,
   "metadata": {},
   "outputs": [
    {
     "data": {
      "text/plain": [
       "0    4311\n",
       "1     402\n",
       "2      56\n",
       "3       8\n",
       "5       1\n",
       "4       1\n",
       "Name: Number_employed_part_time, dtype: int64"
      ]
     },
     "execution_count": 30,
     "metadata": {},
     "output_type": "execute_result"
    }
   ],
   "source": [
    "df_orig['Number_employed_part_time'] = df_orig.loc[:, 'Q28':'Q38'].apply(\n",
    "    lambda row: row.str.contains('Employed (Part-time)', regex=False).sum(), axis=1)\n",
    "df_orig['Number_employed_part_time'].value_counts()"
   ]
  },
  {
   "cell_type": "code",
   "execution_count": 36,
   "metadata": {},
   "outputs": [
    {
     "data": {
      "text/plain": [
       "0    3669\n",
       "1     694\n",
       "2     365\n",
       "3      43\n",
       "4       7\n",
       "5       1\n",
       "Name: Number_unemployed, dtype: int64"
      ]
     },
     "execution_count": 36,
     "metadata": {},
     "output_type": "execute_result"
    }
   ],
   "source": [
    "df_orig['Number_unemployed'] = df_orig.loc[:, 'Q28':'Q38'].apply(\n",
    "    lambda row: row.str.contains('Not employed (or retired)', regex=False).sum(), axis=1)\n",
    "df_orig['Number_unemployed'].value_counts()"
   ]
  },
  {
   "cell_type": "code",
   "execution_count": 32,
   "metadata": {},
   "outputs": [
    {
     "data": {
      "text/plain": [
       "0    3281\n",
       "1    1107\n",
       "2     374\n",
       "3      17\n",
       "Name: Number_fixed_location, dtype: int64"
      ]
     },
     "execution_count": 32,
     "metadata": {},
     "output_type": "execute_result"
    }
   ],
   "source": [
    "df_orig['Number_fixed_location'] = df_orig.loc[:, 'Q50':'Q60'].apply(\n",
    "    lambda row: row.str.contains('Fixed location (outside home) and telework some days', regex=False).sum(), axis=1)\n",
    "df_orig['Number_fixed_location'].value_counts()"
   ]
  },
  {
   "cell_type": "code",
   "execution_count": 34,
   "metadata": {},
   "outputs": [
    {
     "data": {
      "text/plain": [
       "0    3884\n",
       "1     769\n",
       "2     120\n",
       "3       6\n",
       "Name: Number_telework, dtype: int64"
      ]
     },
     "execution_count": 34,
     "metadata": {},
     "output_type": "execute_result"
    }
   ],
   "source": [
    "df_orig['Number_telework'] = df_orig.loc[:, 'Q50':'Q60'].apply(\n",
    "    lambda row: row.str.contains('Work ONLY at home (telework)', regex=False).sum(), axis=1)\n",
    "df_orig['Number_telework'].value_counts()"
   ]
  },
  {
   "cell_type": "code",
   "execution_count": 35,
   "metadata": {},
   "outputs": [
    {
     "data": {
      "text/plain": [
       "0    4664\n",
       "1     106\n",
       "2       8\n",
       "3       1\n",
       "Name: Number_no_fixed_location, dtype: int64"
      ]
     },
     "execution_count": 35,
     "metadata": {},
     "output_type": "execute_result"
    }
   ],
   "source": [
    "df_orig['Number_no_fixed_location'] = df_orig.loc[:, 'Q50':'Q60'].apply(\n",
    "    lambda row: row.str.contains('Donâ€™t have a fixed place of work (e.g., taxi driver, salesman)', regex=False).sum(), axis=1)\n",
    "df_orig['Number_no_fixed_location'].value_counts()"
   ]
  },
  {
   "cell_type": "markdown",
   "metadata": {},
   "source": [
    "Type of home"
   ]
  },
  {
   "cell_type": "code",
   "execution_count": 38,
   "metadata": {},
   "outputs": [
    {
     "data": {
      "text/plain": [
       "0    2570\n",
       "1    2209\n",
       "Name: Own_home, dtype: int64"
      ]
     },
     "execution_count": 38,
     "metadata": {},
     "output_type": "execute_result"
    }
   ],
   "source": [
    "df_orig['Own_home'] = df_orig['Q1-2'].isin(['I own my home and pay a mortgage', 'I own my home and have paid it off fully'])\n",
    "# Convert 'Own_home' to binary\n",
    "df_orig['Own_home'] = df_orig['Own_home'].astype(int)\n",
    "\n",
    "df_orig['Own_home'].value_counts()\n",
    "\n"
   ]
  },
  {
   "cell_type": "code",
   "execution_count": 40,
   "metadata": {},
   "outputs": [
    {
     "data": {
      "text/plain": [
       "0    4661\n",
       "1     118\n",
       "Name: Shared_apartment, dtype: int64"
      ]
     },
     "execution_count": 40,
     "metadata": {},
     "output_type": "execute_result"
    }
   ],
   "source": [
    "df_orig['Shared_apartment'] = df_orig['Q1-2'].isin(['I share rent with a roommate(s)'])\n",
    "# Convert 'Own_home' to binary\n",
    "df_orig['Shared_apartment'] = df_orig['Shared_apartment'].astype(int)\n",
    "\n",
    "df_orig['Shared_apartment'].value_counts()"
   ]
  },
  {
   "cell_type": "code",
   "execution_count": 42,
   "metadata": {},
   "outputs": [
    {
     "data": {
      "text/plain": [
       "0    3395\n",
       "1    1384\n",
       "Name: Live_in_apartment, dtype: int64"
      ]
     },
     "execution_count": 42,
     "metadata": {},
     "output_type": "execute_result"
    }
   ],
   "source": [
    "df_orig['Live_in_apartment'] = df_orig['Q1'].isin(['Apartment/Condo building that has 5+ stories', \n",
    "                                                     'Apartment/Condo building that has up to 4 stories'])\n",
    "# Convert 'Live_in_apartment' to binary\n",
    "df_orig['Live_in_apartment'] = df_orig['Live_in_apartment'].astype(int)\n",
    "\n",
    "df_orig['Live_in_apartment'].value_counts()"
   ]
  },
  {
   "cell_type": "code",
   "execution_count": 50,
   "metadata": {},
   "outputs": [],
   "source": [
    "merged_df = df.merge(df_orig[['Children_in_elementary', 'Children_in_middle_school', \n",
    "                              'Children_in_high_school', 'Minor_children_total', 'Licensed_adults', \n",
    "                              'Family_white', 'Number_employed_full_time', 'Number_employed_part_time', \n",
    "                              'Number_unemployed', 'Number_fixed_location', 'Number_telework', \n",
    "                              'Number_no_fixed_location', 'Own_home', 'Shared_apartment', \n",
    "                              'Live_in_apartment']], right_index=True\n",
    "                     , left_on='Original_Index', how='left')\n",
    "\n"
   ]
  },
  {
   "cell_type": "code",
   "execution_count": 51,
   "metadata": {},
   "outputs": [],
   "source": [
    "# Pickle the merged dataframe\n",
    "merged_df.to_pickle('df_persons_wsltur_with_entropy_socio_eco.pkl')"
   ]
  },
  {
   "cell_type": "code",
   "execution_count": 52,
   "metadata": {},
   "outputs": [
    {
     "data": {
      "text/plain": [
       "(2895, 115)"
      ]
     },
     "execution_count": 52,
     "metadata": {},
     "output_type": "execute_result"
    }
   ],
   "source": [
    "merged_df.shape"
   ]
  },
  {
   "cell_type": "code",
   "execution_count": 53,
   "metadata": {},
   "outputs": [
    {
     "ename": "ValueError",
     "evalue": "operands could not be broadcast together with shapes (2895,) (2895,13) ",
     "output_type": "error",
     "traceback": [
      "\u001b[1;31m---------------------------------------------------------------------------\u001b[0m",
      "\u001b[1;31mValueError\u001b[0m                                Traceback (most recent call last)",
      "Input \u001b[1;32mIn [53]\u001b[0m, in \u001b[0;36m<cell line: 2>\u001b[1;34m()\u001b[0m\n\u001b[0;32m      1\u001b[0m \u001b[38;5;66;03m# Correlation between household size and the number of children\u001b[39;00m\n\u001b[1;32m----> 2\u001b[0m \u001b[43mmerged_df\u001b[49m\u001b[43m[\u001b[49m\u001b[38;5;124;43m'\u001b[39;49m\u001b[38;5;124;43mHousehold_size\u001b[39;49m\u001b[38;5;124;43m'\u001b[39;49m\u001b[43m]\u001b[49m\u001b[38;5;241;43m.\u001b[39;49m\u001b[43mcorr\u001b[49m\u001b[43m(\u001b[49m\u001b[43mmerged_df\u001b[49m\u001b[43m[\u001b[49m\u001b[43m[\u001b[49m\u001b[38;5;124;43m'\u001b[39;49m\u001b[38;5;124;43mMinor_children_total\u001b[39;49m\u001b[38;5;124;43m'\u001b[39;49m\u001b[43m,\u001b[49m\u001b[43m \u001b[49m\u001b[38;5;124;43m'\u001b[39;49m\u001b[38;5;124;43mChildren_in_elementary\u001b[39;49m\u001b[38;5;124;43m'\u001b[39;49m\u001b[43m,\u001b[49m\u001b[43m \u001b[49m\u001b[38;5;124;43m'\u001b[39;49m\u001b[38;5;124;43mChildren_in_middle_school\u001b[39;49m\u001b[38;5;124;43m'\u001b[39;49m\u001b[43m,\u001b[49m\u001b[43m \u001b[49m\n\u001b[0;32m      3\u001b[0m \u001b[43m                              \u001b[49m\u001b[38;5;124;43m'\u001b[39;49m\u001b[38;5;124;43mChildren_in_high_school\u001b[39;49m\u001b[38;5;124;43m'\u001b[39;49m\u001b[43m,\u001b[49m\u001b[43m \u001b[49m\u001b[38;5;124;43m'\u001b[39;49m\u001b[38;5;124;43mLicensed_adults\u001b[39;49m\u001b[38;5;124;43m'\u001b[39;49m\u001b[43m,\u001b[49m\u001b[43m \u001b[49m\u001b[38;5;124;43m'\u001b[39;49m\u001b[38;5;124;43mNumber_employed_full_time\u001b[39;49m\u001b[38;5;124;43m'\u001b[39;49m\u001b[43m,\u001b[49m\n\u001b[0;32m      4\u001b[0m \u001b[43m                                            \u001b[49m\u001b[38;5;124;43m'\u001b[39;49m\u001b[38;5;124;43mNumber_employed_part_time\u001b[39;49m\u001b[38;5;124;43m'\u001b[39;49m\u001b[43m,\u001b[49m\u001b[43m \u001b[49m\u001b[38;5;124;43m'\u001b[39;49m\u001b[38;5;124;43mNumber_unemployed\u001b[39;49m\u001b[38;5;124;43m'\u001b[39;49m\u001b[43m,\u001b[49m\u001b[43m \u001b[49m\u001b[38;5;124;43m'\u001b[39;49m\u001b[38;5;124;43mNumber_fixed_location\u001b[39;49m\u001b[38;5;124;43m'\u001b[39;49m\u001b[43m,\u001b[49m\n\u001b[0;32m      5\u001b[0m \u001b[43m                                            \u001b[49m\u001b[38;5;124;43m'\u001b[39;49m\u001b[38;5;124;43mNumber_telework\u001b[39;49m\u001b[38;5;124;43m'\u001b[39;49m\u001b[43m,\u001b[49m\u001b[43m \u001b[49m\u001b[38;5;124;43m'\u001b[39;49m\u001b[38;5;124;43mNumber_no_fixed_location\u001b[39;49m\u001b[38;5;124;43m'\u001b[39;49m\u001b[43m,\u001b[49m\u001b[43m \u001b[49m\u001b[38;5;124;43m'\u001b[39;49m\u001b[38;5;124;43mOwn_home\u001b[39;49m\u001b[38;5;124;43m'\u001b[39;49m\u001b[43m,\u001b[49m\u001b[43m \u001b[49m\u001b[38;5;124;43m'\u001b[39;49m\u001b[38;5;124;43mShared_apartment\u001b[39;49m\u001b[38;5;124;43m'\u001b[39;49m\u001b[43m,\u001b[49m\u001b[43m]\u001b[49m\u001b[43m]\u001b[49m\u001b[43m)\u001b[49m\n",
      "File \u001b[1;32mc:\\Users\\mwendwa.kiko\\Anaconda3\\envs\\geopandasenv_kiko\\lib\\site-packages\\pandas\\core\\series.py:2760\u001b[0m, in \u001b[0;36mSeries.corr\u001b[1;34m(self, other, method, min_periods)\u001b[0m\n\u001b[0;32m   2757\u001b[0m     \u001b[38;5;28;01mreturn\u001b[39;00m np\u001b[38;5;241m.\u001b[39mnan\n\u001b[0;32m   2759\u001b[0m \u001b[38;5;28;01mif\u001b[39;00m method \u001b[38;5;129;01min\u001b[39;00m [\u001b[38;5;124m\"\u001b[39m\u001b[38;5;124mpearson\u001b[39m\u001b[38;5;124m\"\u001b[39m, \u001b[38;5;124m\"\u001b[39m\u001b[38;5;124mspearman\u001b[39m\u001b[38;5;124m\"\u001b[39m, \u001b[38;5;124m\"\u001b[39m\u001b[38;5;124mkendall\u001b[39m\u001b[38;5;124m\"\u001b[39m] \u001b[38;5;129;01mor\u001b[39;00m callable(method):\n\u001b[1;32m-> 2760\u001b[0m     \u001b[38;5;28;01mreturn\u001b[39;00m \u001b[43mnanops\u001b[49m\u001b[38;5;241;43m.\u001b[39;49m\u001b[43mnancorr\u001b[49m\u001b[43m(\u001b[49m\n\u001b[0;32m   2761\u001b[0m \u001b[43m        \u001b[49m\u001b[43mthis\u001b[49m\u001b[38;5;241;43m.\u001b[39;49m\u001b[43mvalues\u001b[49m\u001b[43m,\u001b[49m\u001b[43m \u001b[49m\u001b[43mother\u001b[49m\u001b[38;5;241;43m.\u001b[39;49m\u001b[43mvalues\u001b[49m\u001b[43m,\u001b[49m\u001b[43m \u001b[49m\u001b[43mmethod\u001b[49m\u001b[38;5;241;43m=\u001b[39;49m\u001b[43mmethod\u001b[49m\u001b[43m,\u001b[49m\u001b[43m \u001b[49m\u001b[43mmin_periods\u001b[49m\u001b[38;5;241;43m=\u001b[39;49m\u001b[43mmin_periods\u001b[49m\n\u001b[0;32m   2762\u001b[0m \u001b[43m    \u001b[49m\u001b[43m)\u001b[49m\n\u001b[0;32m   2764\u001b[0m \u001b[38;5;28;01mraise\u001b[39;00m \u001b[38;5;167;01mValueError\u001b[39;00m(\n\u001b[0;32m   2765\u001b[0m     \u001b[38;5;124m\"\u001b[39m\u001b[38;5;124mmethod must be either \u001b[39m\u001b[38;5;124m'\u001b[39m\u001b[38;5;124mpearson\u001b[39m\u001b[38;5;124m'\u001b[39m\u001b[38;5;124m, \u001b[39m\u001b[38;5;124m\"\u001b[39m\n\u001b[0;32m   2766\u001b[0m     \u001b[38;5;124m\"\u001b[39m\u001b[38;5;124m'\u001b[39m\u001b[38;5;124mspearman\u001b[39m\u001b[38;5;124m'\u001b[39m\u001b[38;5;124m, \u001b[39m\u001b[38;5;124m'\u001b[39m\u001b[38;5;124mkendall\u001b[39m\u001b[38;5;124m'\u001b[39m\u001b[38;5;124m, or a callable, \u001b[39m\u001b[38;5;124m\"\u001b[39m\n\u001b[0;32m   2767\u001b[0m     \u001b[38;5;124mf\u001b[39m\u001b[38;5;124m\"\u001b[39m\u001b[38;5;124m'\u001b[39m\u001b[38;5;132;01m{\u001b[39;00mmethod\u001b[38;5;132;01m}\u001b[39;00m\u001b[38;5;124m'\u001b[39m\u001b[38;5;124m was supplied\u001b[39m\u001b[38;5;124m\"\u001b[39m\n\u001b[0;32m   2768\u001b[0m )\n",
      "File \u001b[1;32mc:\\Users\\mwendwa.kiko\\Anaconda3\\envs\\geopandasenv_kiko\\lib\\site-packages\\pandas\\core\\nanops.py:93\u001b[0m, in \u001b[0;36mdisallow.__call__.<locals>._f\u001b[1;34m(*args, **kwargs)\u001b[0m\n\u001b[0;32m     91\u001b[0m \u001b[38;5;28;01mtry\u001b[39;00m:\n\u001b[0;32m     92\u001b[0m     \u001b[38;5;28;01mwith\u001b[39;00m np\u001b[38;5;241m.\u001b[39merrstate(invalid\u001b[38;5;241m=\u001b[39m\u001b[38;5;124m\"\u001b[39m\u001b[38;5;124mignore\u001b[39m\u001b[38;5;124m\"\u001b[39m):\n\u001b[1;32m---> 93\u001b[0m         \u001b[38;5;28;01mreturn\u001b[39;00m f(\u001b[38;5;241m*\u001b[39margs, \u001b[38;5;241m*\u001b[39m\u001b[38;5;241m*\u001b[39mkwargs)\n\u001b[0;32m     94\u001b[0m \u001b[38;5;28;01mexcept\u001b[39;00m \u001b[38;5;167;01mValueError\u001b[39;00m \u001b[38;5;28;01mas\u001b[39;00m e:\n\u001b[0;32m     95\u001b[0m     \u001b[38;5;66;03m# we want to transform an object array\u001b[39;00m\n\u001b[0;32m     96\u001b[0m     \u001b[38;5;66;03m# ValueError message to the more typical TypeError\u001b[39;00m\n\u001b[0;32m     97\u001b[0m     \u001b[38;5;66;03m# e.g. this is normally a disallowed function on\u001b[39;00m\n\u001b[0;32m     98\u001b[0m     \u001b[38;5;66;03m# object arrays that contain strings\u001b[39;00m\n\u001b[0;32m     99\u001b[0m     \u001b[38;5;28;01mif\u001b[39;00m is_object_dtype(args[\u001b[38;5;241m0\u001b[39m]):\n",
      "File \u001b[1;32mc:\\Users\\mwendwa.kiko\\Anaconda3\\envs\\geopandasenv_kiko\\lib\\site-packages\\pandas\\core\\nanops.py:1545\u001b[0m, in \u001b[0;36mnancorr\u001b[1;34m(a, b, method, min_periods)\u001b[0m\n\u001b[0;32m   1542\u001b[0m \u001b[38;5;28;01mif\u001b[39;00m min_periods \u001b[38;5;129;01mis\u001b[39;00m \u001b[38;5;28;01mNone\u001b[39;00m:\n\u001b[0;32m   1543\u001b[0m     min_periods \u001b[38;5;241m=\u001b[39m \u001b[38;5;241m1\u001b[39m\n\u001b[1;32m-> 1545\u001b[0m valid \u001b[38;5;241m=\u001b[39m \u001b[43mnotna\u001b[49m\u001b[43m(\u001b[49m\u001b[43ma\u001b[49m\u001b[43m)\u001b[49m\u001b[43m \u001b[49m\u001b[38;5;241;43m&\u001b[39;49m\u001b[43m \u001b[49m\u001b[43mnotna\u001b[49m\u001b[43m(\u001b[49m\u001b[43mb\u001b[49m\u001b[43m)\u001b[49m\n\u001b[0;32m   1546\u001b[0m \u001b[38;5;28;01mif\u001b[39;00m \u001b[38;5;129;01mnot\u001b[39;00m valid\u001b[38;5;241m.\u001b[39mall():\n\u001b[0;32m   1547\u001b[0m     a \u001b[38;5;241m=\u001b[39m a[valid]\n",
      "\u001b[1;31mValueError\u001b[0m: operands could not be broadcast together with shapes (2895,) (2895,13) "
     ]
    }
   ],
   "source": [
    "# Correlation between household size and the number of children\n",
    "merged_df['Household_size'].corr(merged_df[['Minor_children_total', 'Children_in_elementary', 'Children_in_middle_school', \n",
    "                              'Children_in_high_school', 'Licensed_adults', 'Number_employed_full_time',\n",
    "                                            'Number_employed_part_time', 'Number_unemployed', 'Number_fixed_location',\n",
    "                                            'Number_telework', 'Number_no_fixed_location', 'Own_home', 'Shared_apartment',]])"
   ]
  },
  {
   "cell_type": "code",
   "execution_count": null,
   "metadata": {},
   "outputs": [],
   "source": []
  }
 ],
 "metadata": {
  "kernelspec": {
   "display_name": "geopandasenv_kiko",
   "language": "python",
   "name": "geopandasenv_kiko"
  },
  "language_info": {
   "codemirror_mode": {
    "name": "ipython",
    "version": 3
   },
   "file_extension": ".py",
   "mimetype": "text/x-python",
   "name": "python",
   "nbconvert_exporter": "python",
   "pygments_lexer": "ipython3",
   "version": "3.9.13"
  }
 },
 "nbformat": 4,
 "nbformat_minor": 2
}
