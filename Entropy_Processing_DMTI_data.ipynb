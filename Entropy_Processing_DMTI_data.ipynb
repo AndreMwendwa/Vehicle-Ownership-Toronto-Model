{
 "cells": [
  {
   "cell_type": "code",
   "execution_count": 30,
   "metadata": {},
   "outputs": [],
   "source": [
    "import pandas as pd\n",
    "import numpy as np\n",
    "import matplotlib.pyplot as plt\n",
    "import seaborn as sns\n",
    "import os\n",
    "import geopandas as gpd\n",
    "from numpy import log, array, unique"
   ]
  },
  {
   "cell_type": "code",
   "execution_count": 36,
   "metadata": {},
   "outputs": [],
   "source": [
    "# Read in the data\n",
    "df = pd.read_pickle('df_persons_wsltur_with_entropy4.pkl')"
   ]
  },
  {
   "cell_type": "code",
   "execution_count": 37,
   "metadata": {},
   "outputs": [
    {
     "data": {
      "text/plain": [
       "(2895, 99)"
      ]
     },
     "execution_count": 37,
     "metadata": {},
     "output_type": "execute_result"
    }
   ],
   "source": [
    "df.shape"
   ]
  },
  {
   "cell_type": "code",
   "execution_count": 38,
   "metadata": {},
   "outputs": [
    {
     "name": "stderr",
     "output_type": "stream",
     "text": [
      "c:\\Users\\mwendwa.kiko\\Anaconda3\\envs\\geopandasenv_kiko\\lib\\site-packages\\geopandas\\array.py:275: ShapelyDeprecationWarning: The array interface is deprecated and will no longer work in Shapely 2.0. Convert the '.coords' to a numpy array instead.\n",
      "  return GeometryArray(vectorized.points_from_xy(x, y, z), crs=crs)\n"
     ]
    }
   ],
   "source": [
    "# Convert df to a geodataframe using the lat/lon columns\n",
    "gdf = gpd.GeoDataFrame(df, geometry=gpd.points_from_xy(df.LocationLongitude, df.LocationLatitude))\n"
   ]
  },
  {
   "cell_type": "code",
   "execution_count": 9,
   "metadata": {},
   "outputs": [
    {
     "data": {
      "text/plain": [
       "array([-80.248423,  43.050553, -78.437503,  44.516972])"
      ]
     },
     "execution_count": 9,
     "metadata": {},
     "output_type": "execute_result"
    }
   ],
   "source": [
    "gtha = gpd.read_file(r'C:\\Users\\mwendwa.kiko\\Documents\\Personal_Kiko\\OneDrive\\OneDrive - University of Toronto\\UofT\\Research\\IATBR\\OSM Analysis\\GTHA_Boundary-shp\\GTHA_Boundary.shp')\n",
    "# Generate a bounding box for the GTHA\n",
    "gtha_bbox = gtha.total_bounds\n",
    "gtha_bbox"
   ]
  },
  {
   "cell_type": "code",
   "execution_count": 10,
   "metadata": {},
   "outputs": [],
   "source": [
    "# Open DMTI shapefile\n",
    "# dmti = gpd.read_file(r'.\\DMTI_2019_CMCS_LandCoverRegion\\DMTI_2019_CMCS_LandCoverRegion.shp')"
   ]
  },
  {
   "cell_type": "code",
   "execution_count": 11,
   "metadata": {},
   "outputs": [
    {
     "data": {
      "text/html": [
       "<div>\n",
       "<style scoped>\n",
       "    .dataframe tbody tr th:only-of-type {\n",
       "        vertical-align: middle;\n",
       "    }\n",
       "\n",
       "    .dataframe tbody tr th {\n",
       "        vertical-align: top;\n",
       "    }\n",
       "\n",
       "    .dataframe thead th {\n",
       "        text-align: right;\n",
       "    }\n",
       "</style>\n",
       "<table border=\"1\" class=\"dataframe\">\n",
       "  <thead>\n",
       "    <tr style=\"text-align: right;\">\n",
       "      <th></th>\n",
       "      <th>UID</th>\n",
       "      <th>NAME</th>\n",
       "      <th>CATEGORY</th>\n",
       "      <th>MUNICIPAL</th>\n",
       "      <th>PROV</th>\n",
       "      <th>ACCURACY</th>\n",
       "      <th>ACQ_TECH</th>\n",
       "      <th>SHAPE_Leng</th>\n",
       "      <th>SHAPE_Area</th>\n",
       "      <th>geometry</th>\n",
       "    </tr>\n",
       "  </thead>\n",
       "  <tbody>\n",
       "    <tr>\n",
       "      <th>0</th>\n",
       "      <td>38C50E35-73FA-48CE-9A81-DFC8013455F6</td>\n",
       "      <td>LAND COVER</td>\n",
       "      <td>RESIDENTIAL</td>\n",
       "      <td>BURNABY</td>\n",
       "      <td>BC</td>\n",
       "      <td>-1</td>\n",
       "      <td>-1</td>\n",
       "      <td>0.006862</td>\n",
       "      <td>1.371761e-06</td>\n",
       "      <td>POLYGON ((-122.91075 49.24483, -122.91062 49.2...</td>\n",
       "    </tr>\n",
       "    <tr>\n",
       "      <th>1</th>\n",
       "      <td>6F9A4D67-2305-4EC8-A583-AC70417016C0</td>\n",
       "      <td>LAND COVER</td>\n",
       "      <td>RESIDENTIAL</td>\n",
       "      <td>GREATER VANCOUVER</td>\n",
       "      <td>BC</td>\n",
       "      <td>-1</td>\n",
       "      <td>-1</td>\n",
       "      <td>0.007228</td>\n",
       "      <td>1.538319e-06</td>\n",
       "      <td>POLYGON ((-123.19366 49.24479, -123.19366 49.2...</td>\n",
       "    </tr>\n",
       "    <tr>\n",
       "      <th>2</th>\n",
       "      <td>950373DD-418C-492B-9D68-C76549C3B51F</td>\n",
       "      <td>LAND COVER</td>\n",
       "      <td>RESIDENTIAL</td>\n",
       "      <td>NANAIMO</td>\n",
       "      <td>BC</td>\n",
       "      <td>-1</td>\n",
       "      <td>-1</td>\n",
       "      <td>0.018526</td>\n",
       "      <td>7.342337e-06</td>\n",
       "      <td>POLYGON ((-124.04538 49.24366, -124.04539 49.2...</td>\n",
       "    </tr>\n",
       "    <tr>\n",
       "      <th>3</th>\n",
       "      <td>EB52D511-AFC5-4962-8CC3-3CEDF78D362A</td>\n",
       "      <td>LAND COVER</td>\n",
       "      <td>RESIDENTIAL</td>\n",
       "      <td>VANCOUVER</td>\n",
       "      <td>BC</td>\n",
       "      <td>-1</td>\n",
       "      <td>-1</td>\n",
       "      <td>0.006002</td>\n",
       "      <td>1.614685e-06</td>\n",
       "      <td>POLYGON ((-123.14020 49.24482, -123.14017 49.2...</td>\n",
       "    </tr>\n",
       "    <tr>\n",
       "      <th>4</th>\n",
       "      <td>BD7369D1-0884-41C8-B437-AAB37C1D947D</td>\n",
       "      <td>LAND COVER</td>\n",
       "      <td>PARKS AND RECREATIONAL</td>\n",
       "      <td>VANCOUVER</td>\n",
       "      <td>BC</td>\n",
       "      <td>-1</td>\n",
       "      <td>-1</td>\n",
       "      <td>0.008243</td>\n",
       "      <td>2.070354e-07</td>\n",
       "      <td>POLYGON ((-123.15228 49.24481, -123.15084 49.2...</td>\n",
       "    </tr>\n",
       "    <tr>\n",
       "      <th>...</th>\n",
       "      <td>...</td>\n",
       "      <td>...</td>\n",
       "      <td>...</td>\n",
       "      <td>...</td>\n",
       "      <td>...</td>\n",
       "      <td>...</td>\n",
       "      <td>...</td>\n",
       "      <td>...</td>\n",
       "      <td>...</td>\n",
       "      <td>...</td>\n",
       "    </tr>\n",
       "    <tr>\n",
       "      <th>729418</th>\n",
       "      <td>F640DA9F-850A-46E6-9620-8C9204742595</td>\n",
       "      <td>LAND COVER</td>\n",
       "      <td>WATERBODY</td>\n",
       "      <td>LEAMINGTON</td>\n",
       "      <td>ON</td>\n",
       "      <td>-1</td>\n",
       "      <td>-1</td>\n",
       "      <td>0.059078</td>\n",
       "      <td>2.016324e-04</td>\n",
       "      <td>POLYGON ((-82.56224 42.00005, -82.56159 41.999...</td>\n",
       "    </tr>\n",
       "    <tr>\n",
       "      <th>729419</th>\n",
       "      <td>75373D45-FF3D-4A35-8F78-1C4BB02DECD7</td>\n",
       "      <td>LAND COVER</td>\n",
       "      <td>WATERBODY</td>\n",
       "      <td>KINGSVILLE</td>\n",
       "      <td>ON</td>\n",
       "      <td>-1</td>\n",
       "      <td>-1</td>\n",
       "      <td>0.241388</td>\n",
       "      <td>3.270039e-03</td>\n",
       "      <td>POLYGON ((-82.74148 42.00000, -82.74966 41.977...</td>\n",
       "    </tr>\n",
       "    <tr>\n",
       "      <th>729420</th>\n",
       "      <td>15D0E565-1AE4-43E4-A6DC-0C1D5C3BB2C9</td>\n",
       "      <td>LAND COVER</td>\n",
       "      <td>OPEN AREA</td>\n",
       "      <td>ESSEX</td>\n",
       "      <td>ON</td>\n",
       "      <td>-1</td>\n",
       "      <td>-1</td>\n",
       "      <td>0.043942</td>\n",
       "      <td>5.867684e-06</td>\n",
       "      <td>POLYGON ((-82.95283 41.99440, -82.95295 41.994...</td>\n",
       "    </tr>\n",
       "    <tr>\n",
       "      <th>729421</th>\n",
       "      <td>2AF485C6-979F-4090-9CB9-A80AD859C3A9</td>\n",
       "      <td>LAND COVER</td>\n",
       "      <td>WATERBODY</td>\n",
       "      <td>ESSEX</td>\n",
       "      <td>ON</td>\n",
       "      <td>-1</td>\n",
       "      <td>-1</td>\n",
       "      <td>0.157354</td>\n",
       "      <td>4.191322e-04</td>\n",
       "      <td>POLYGON ((-82.96572 42.00003, -82.96532 41.999...</td>\n",
       "    </tr>\n",
       "    <tr>\n",
       "      <th>729422</th>\n",
       "      <td>C1849575-CFA2-44FC-B869-0687A30FAF1D</td>\n",
       "      <td>LAND COVER</td>\n",
       "      <td>WATERBODY</td>\n",
       "      <td>KINGSVILLE</td>\n",
       "      <td>ON</td>\n",
       "      <td>-1</td>\n",
       "      <td>-1</td>\n",
       "      <td>0.150917</td>\n",
       "      <td>1.332683e-03</td>\n",
       "      <td>POLYGON ((-82.72350 42.00003, -82.71013 41.958...</td>\n",
       "    </tr>\n",
       "  </tbody>\n",
       "</table>\n",
       "<p>729423 rows × 10 columns</p>\n",
       "</div>"
      ],
      "text/plain": [
       "                                         UID        NAME  \\\n",
       "0       38C50E35-73FA-48CE-9A81-DFC8013455F6  LAND COVER   \n",
       "1       6F9A4D67-2305-4EC8-A583-AC70417016C0  LAND COVER   \n",
       "2       950373DD-418C-492B-9D68-C76549C3B51F  LAND COVER   \n",
       "3       EB52D511-AFC5-4962-8CC3-3CEDF78D362A  LAND COVER   \n",
       "4       BD7369D1-0884-41C8-B437-AAB37C1D947D  LAND COVER   \n",
       "...                                      ...         ...   \n",
       "729418  F640DA9F-850A-46E6-9620-8C9204742595  LAND COVER   \n",
       "729419  75373D45-FF3D-4A35-8F78-1C4BB02DECD7  LAND COVER   \n",
       "729420  15D0E565-1AE4-43E4-A6DC-0C1D5C3BB2C9  LAND COVER   \n",
       "729421  2AF485C6-979F-4090-9CB9-A80AD859C3A9  LAND COVER   \n",
       "729422  C1849575-CFA2-44FC-B869-0687A30FAF1D  LAND COVER   \n",
       "\n",
       "                      CATEGORY          MUNICIPAL PROV  ACCURACY  ACQ_TECH  \\\n",
       "0                  RESIDENTIAL            BURNABY   BC        -1        -1   \n",
       "1                  RESIDENTIAL  GREATER VANCOUVER   BC        -1        -1   \n",
       "2                  RESIDENTIAL            NANAIMO   BC        -1        -1   \n",
       "3                  RESIDENTIAL          VANCOUVER   BC        -1        -1   \n",
       "4       PARKS AND RECREATIONAL          VANCOUVER   BC        -1        -1   \n",
       "...                        ...                ...  ...       ...       ...   \n",
       "729418               WATERBODY         LEAMINGTON   ON        -1        -1   \n",
       "729419               WATERBODY         KINGSVILLE   ON        -1        -1   \n",
       "729420               OPEN AREA              ESSEX   ON        -1        -1   \n",
       "729421               WATERBODY              ESSEX   ON        -1        -1   \n",
       "729422               WATERBODY         KINGSVILLE   ON        -1        -1   \n",
       "\n",
       "        SHAPE_Leng    SHAPE_Area  \\\n",
       "0         0.006862  1.371761e-06   \n",
       "1         0.007228  1.538319e-06   \n",
       "2         0.018526  7.342337e-06   \n",
       "3         0.006002  1.614685e-06   \n",
       "4         0.008243  2.070354e-07   \n",
       "...            ...           ...   \n",
       "729418    0.059078  2.016324e-04   \n",
       "729419    0.241388  3.270039e-03   \n",
       "729420    0.043942  5.867684e-06   \n",
       "729421    0.157354  4.191322e-04   \n",
       "729422    0.150917  1.332683e-03   \n",
       "\n",
       "                                                 geometry  \n",
       "0       POLYGON ((-122.91075 49.24483, -122.91062 49.2...  \n",
       "1       POLYGON ((-123.19366 49.24479, -123.19366 49.2...  \n",
       "2       POLYGON ((-124.04538 49.24366, -124.04539 49.2...  \n",
       "3       POLYGON ((-123.14020 49.24482, -123.14017 49.2...  \n",
       "4       POLYGON ((-123.15228 49.24481, -123.15084 49.2...  \n",
       "...                                                   ...  \n",
       "729418  POLYGON ((-82.56224 42.00005, -82.56159 41.999...  \n",
       "729419  POLYGON ((-82.74148 42.00000, -82.74966 41.977...  \n",
       "729420  POLYGON ((-82.95283 41.99440, -82.95295 41.994...  \n",
       "729421  POLYGON ((-82.96572 42.00003, -82.96532 41.999...  \n",
       "729422  POLYGON ((-82.72350 42.00003, -82.71013 41.958...  \n",
       "\n",
       "[729423 rows x 10 columns]"
      ]
     },
     "execution_count": 11,
     "metadata": {},
     "output_type": "execute_result"
    }
   ],
   "source": [
    "# dmti"
   ]
  },
  {
   "cell_type": "code",
   "execution_count": 12,
   "metadata": {},
   "outputs": [
    {
     "data": {
      "text/plain": [
       "array(['RESIDENTIAL', 'PARKS AND RECREATIONAL', 'OPEN AREA',\n",
       "       'GOVERNMENT AND INSTITUTIONAL', 'WATERBODY', 'COMMERCIAL',\n",
       "       'RESOURCE AND INDUSTRIAL'], dtype=object)"
      ]
     },
     "execution_count": 12,
     "metadata": {},
     "output_type": "execute_result"
    }
   ],
   "source": [
    "# dmti.CATEGORY.unique()"
   ]
  },
  {
   "cell_type": "code",
   "execution_count": 13,
   "metadata": {},
   "outputs": [
    {
     "data": {
      "text/html": [
       "<div>\n",
       "<style scoped>\n",
       "    .dataframe tbody tr th:only-of-type {\n",
       "        vertical-align: middle;\n",
       "    }\n",
       "\n",
       "    .dataframe tbody tr th {\n",
       "        vertical-align: top;\n",
       "    }\n",
       "\n",
       "    .dataframe thead th {\n",
       "        text-align: right;\n",
       "    }\n",
       "</style>\n",
       "<table border=\"1\" class=\"dataframe\">\n",
       "  <thead>\n",
       "    <tr style=\"text-align: right;\">\n",
       "      <th></th>\n",
       "      <th>UID</th>\n",
       "      <th>NAME</th>\n",
       "      <th>CATEGORY</th>\n",
       "      <th>MUNICIPAL</th>\n",
       "      <th>PROV</th>\n",
       "      <th>ACCURACY</th>\n",
       "      <th>ACQ_TECH</th>\n",
       "      <th>SHAPE_Leng</th>\n",
       "      <th>SHAPE_Area</th>\n",
       "      <th>geometry</th>\n",
       "    </tr>\n",
       "  </thead>\n",
       "  <tbody>\n",
       "    <tr>\n",
       "      <th>298800</th>\n",
       "      <td>0BCE0D73-4485-4FF3-B990-4A60163A9A62</td>\n",
       "      <td>LAND COVER</td>\n",
       "      <td>RESIDENTIAL</td>\n",
       "      <td>BROCK</td>\n",
       "      <td>ON</td>\n",
       "      <td>-1</td>\n",
       "      <td>-1</td>\n",
       "      <td>0.009302</td>\n",
       "      <td>2.905967e-06</td>\n",
       "      <td>POLYGON ((-79.16358 44.43417, -79.16325 44.434...</td>\n",
       "    </tr>\n",
       "    <tr>\n",
       "      <th>298878</th>\n",
       "      <td>8DCC8028-A946-460E-ADB6-BF036C71487F</td>\n",
       "      <td>LAND COVER</td>\n",
       "      <td>RESIDENTIAL</td>\n",
       "      <td>GEORGINA</td>\n",
       "      <td>ON</td>\n",
       "      <td>-1</td>\n",
       "      <td>-1</td>\n",
       "      <td>0.003451</td>\n",
       "      <td>6.208840e-07</td>\n",
       "      <td>POLYGON ((-79.37419 44.32314, -79.37370 44.323...</td>\n",
       "    </tr>\n",
       "    <tr>\n",
       "      <th>299115</th>\n",
       "      <td>84F361BE-09DD-4B5A-946F-2986877BB23D</td>\n",
       "      <td>LAND COVER</td>\n",
       "      <td>OPEN AREA</td>\n",
       "      <td>BROCK</td>\n",
       "      <td>ON</td>\n",
       "      <td>-1</td>\n",
       "      <td>-1</td>\n",
       "      <td>0.042670</td>\n",
       "      <td>1.011424e-05</td>\n",
       "      <td>POLYGON ((-79.14375 44.37790, -79.14833 44.373...</td>\n",
       "    </tr>\n",
       "    <tr>\n",
       "      <th>299524</th>\n",
       "      <td>01A2DCBC-8103-4386-BAF1-80E0C5351D1A</td>\n",
       "      <td>LAND COVER</td>\n",
       "      <td>PARKS AND RECREATIONAL</td>\n",
       "      <td>BROCK</td>\n",
       "      <td>ON</td>\n",
       "      <td>-1</td>\n",
       "      <td>-1</td>\n",
       "      <td>0.000192</td>\n",
       "      <td>1.524509e-09</td>\n",
       "      <td>POLYGON ((-79.04567 44.33528, -79.04575 44.335...</td>\n",
       "    </tr>\n",
       "    <tr>\n",
       "      <th>299825</th>\n",
       "      <td>B25373DC-5028-41FE-9C6F-4667C8E7D704</td>\n",
       "      <td>LAND COVER</td>\n",
       "      <td>OPEN AREA</td>\n",
       "      <td>BROCK</td>\n",
       "      <td>ON</td>\n",
       "      <td>-1</td>\n",
       "      <td>-1</td>\n",
       "      <td>0.059479</td>\n",
       "      <td>1.432691e-04</td>\n",
       "      <td>POLYGON ((-79.18069 44.31883, -79.18006 44.319...</td>\n",
       "    </tr>\n",
       "    <tr>\n",
       "      <th>...</th>\n",
       "      <td>...</td>\n",
       "      <td>...</td>\n",
       "      <td>...</td>\n",
       "      <td>...</td>\n",
       "      <td>...</td>\n",
       "      <td>...</td>\n",
       "      <td>...</td>\n",
       "      <td>...</td>\n",
       "      <td>...</td>\n",
       "      <td>...</td>\n",
       "    </tr>\n",
       "    <tr>\n",
       "      <th>701054</th>\n",
       "      <td>1E0DC16D-0561-434E-9D9F-AEEF73EBC3CB</td>\n",
       "      <td>LAND COVER</td>\n",
       "      <td>OPEN AREA</td>\n",
       "      <td>HAMILTON</td>\n",
       "      <td>ON</td>\n",
       "      <td>-1</td>\n",
       "      <td>-1</td>\n",
       "      <td>0.000336</td>\n",
       "      <td>2.563184e-09</td>\n",
       "      <td>POLYGON ((-79.74725 43.06670, -79.74709 43.066...</td>\n",
       "    </tr>\n",
       "    <tr>\n",
       "      <th>701280</th>\n",
       "      <td>B6959C84-8EAF-4FED-BCFA-EF3BB7FD348E</td>\n",
       "      <td>LAND COVER</td>\n",
       "      <td>OPEN AREA</td>\n",
       "      <td>HAMILTON</td>\n",
       "      <td>ON</td>\n",
       "      <td>-1</td>\n",
       "      <td>-1</td>\n",
       "      <td>0.079759</td>\n",
       "      <td>2.773207e-04</td>\n",
       "      <td>POLYGON ((-79.78309 43.07277, -79.78303 43.072...</td>\n",
       "    </tr>\n",
       "    <tr>\n",
       "      <th>701288</th>\n",
       "      <td>52E5EABC-503B-4535-8AE7-27C4311763E6</td>\n",
       "      <td>LAND COVER</td>\n",
       "      <td>OPEN AREA</td>\n",
       "      <td>HAMILTON</td>\n",
       "      <td>ON</td>\n",
       "      <td>-1</td>\n",
       "      <td>-1</td>\n",
       "      <td>0.008319</td>\n",
       "      <td>2.161047e-06</td>\n",
       "      <td>POLYGON ((-79.79809 43.06597, -79.79432 43.066...</td>\n",
       "    </tr>\n",
       "    <tr>\n",
       "      <th>701760</th>\n",
       "      <td>0756E763-BA72-440C-95FF-EA7303C65E26</td>\n",
       "      <td>LAND COVER</td>\n",
       "      <td>WATERBODY</td>\n",
       "      <td>HAMILTON</td>\n",
       "      <td>ON</td>\n",
       "      <td>-1</td>\n",
       "      <td>-1</td>\n",
       "      <td>0.008537</td>\n",
       "      <td>1.090870e-06</td>\n",
       "      <td>POLYGON ((-79.78133 43.06414, -79.78137 43.063...</td>\n",
       "    </tr>\n",
       "    <tr>\n",
       "      <th>701829</th>\n",
       "      <td>C9606572-CE8E-40DA-BF9E-40E36614A9B5</td>\n",
       "      <td>LAND COVER</td>\n",
       "      <td>OPEN AREA</td>\n",
       "      <td>HAMILTON</td>\n",
       "      <td>ON</td>\n",
       "      <td>-1</td>\n",
       "      <td>-1</td>\n",
       "      <td>0.003263</td>\n",
       "      <td>5.095700e-07</td>\n",
       "      <td>POLYGON ((-79.78204 43.06370, -79.78170 43.063...</td>\n",
       "    </tr>\n",
       "  </tbody>\n",
       "</table>\n",
       "<p>98805 rows × 10 columns</p>\n",
       "</div>"
      ],
      "text/plain": [
       "                                         UID        NAME  \\\n",
       "298800  0BCE0D73-4485-4FF3-B990-4A60163A9A62  LAND COVER   \n",
       "298878  8DCC8028-A946-460E-ADB6-BF036C71487F  LAND COVER   \n",
       "299115  84F361BE-09DD-4B5A-946F-2986877BB23D  LAND COVER   \n",
       "299524  01A2DCBC-8103-4386-BAF1-80E0C5351D1A  LAND COVER   \n",
       "299825  B25373DC-5028-41FE-9C6F-4667C8E7D704  LAND COVER   \n",
       "...                                      ...         ...   \n",
       "701054  1E0DC16D-0561-434E-9D9F-AEEF73EBC3CB  LAND COVER   \n",
       "701280  B6959C84-8EAF-4FED-BCFA-EF3BB7FD348E  LAND COVER   \n",
       "701288  52E5EABC-503B-4535-8AE7-27C4311763E6  LAND COVER   \n",
       "701760  0756E763-BA72-440C-95FF-EA7303C65E26  LAND COVER   \n",
       "701829  C9606572-CE8E-40DA-BF9E-40E36614A9B5  LAND COVER   \n",
       "\n",
       "                      CATEGORY MUNICIPAL PROV  ACCURACY  ACQ_TECH  SHAPE_Leng  \\\n",
       "298800             RESIDENTIAL     BROCK   ON        -1        -1    0.009302   \n",
       "298878             RESIDENTIAL  GEORGINA   ON        -1        -1    0.003451   \n",
       "299115               OPEN AREA     BROCK   ON        -1        -1    0.042670   \n",
       "299524  PARKS AND RECREATIONAL     BROCK   ON        -1        -1    0.000192   \n",
       "299825               OPEN AREA     BROCK   ON        -1        -1    0.059479   \n",
       "...                        ...       ...  ...       ...       ...         ...   \n",
       "701054               OPEN AREA  HAMILTON   ON        -1        -1    0.000336   \n",
       "701280               OPEN AREA  HAMILTON   ON        -1        -1    0.079759   \n",
       "701288               OPEN AREA  HAMILTON   ON        -1        -1    0.008319   \n",
       "701760               WATERBODY  HAMILTON   ON        -1        -1    0.008537   \n",
       "701829               OPEN AREA  HAMILTON   ON        -1        -1    0.003263   \n",
       "\n",
       "          SHAPE_Area                                           geometry  \n",
       "298800  2.905967e-06  POLYGON ((-79.16358 44.43417, -79.16325 44.434...  \n",
       "298878  6.208840e-07  POLYGON ((-79.37419 44.32314, -79.37370 44.323...  \n",
       "299115  1.011424e-05  POLYGON ((-79.14375 44.37790, -79.14833 44.373...  \n",
       "299524  1.524509e-09  POLYGON ((-79.04567 44.33528, -79.04575 44.335...  \n",
       "299825  1.432691e-04  POLYGON ((-79.18069 44.31883, -79.18006 44.319...  \n",
       "...              ...                                                ...  \n",
       "701054  2.563184e-09  POLYGON ((-79.74725 43.06670, -79.74709 43.066...  \n",
       "701280  2.773207e-04  POLYGON ((-79.78309 43.07277, -79.78303 43.072...  \n",
       "701288  2.161047e-06  POLYGON ((-79.79809 43.06597, -79.79432 43.066...  \n",
       "701760  1.090870e-06  POLYGON ((-79.78133 43.06414, -79.78137 43.063...  \n",
       "701829  5.095700e-07  POLYGON ((-79.78204 43.06370, -79.78170 43.063...  \n",
       "\n",
       "[98805 rows x 10 columns]"
      ]
     },
     "execution_count": 13,
     "metadata": {},
     "output_type": "execute_result"
    }
   ],
   "source": [
    "# Region within the GTHA\n",
    "# dmti_gtha = dmti[dmti.geometry.within(gtha.unary_union)]\n",
    "# dmti_gtha"
   ]
  },
  {
   "cell_type": "code",
   "execution_count": 14,
   "metadata": {},
   "outputs": [
    {
     "name": "stderr",
     "output_type": "stream",
     "text": [
      "c:\\Users\\mwendwa.kiko\\Anaconda3\\envs\\geopandasenv_kiko\\lib\\site-packages\\geopandas\\io\\file.py:299: FutureWarning: pandas.Int64Index is deprecated and will be removed from pandas in a future version. Use pandas.Index with the appropriate dtype instead.\n",
      "  pd.Int64Index,\n"
     ]
    }
   ],
   "source": [
    "# Save to shapefile\n",
    "# dmti_gtha.to_file(r'.\\DMTI_2019_CMCS_LandCoverRegion\\DMTI_2019_CMCS_LandCoverRegion_GTHA.shp')"
   ]
  },
  {
   "cell_type": "code",
   "execution_count": null,
   "metadata": {},
   "outputs": [],
   "source": [
    "# Read in the shapefile for the GTHA\n",
    "dmti_gtha = gpd.read_file(r'.\\DMTI_2019_CMCS_LandCoverRegion\\DMTI_2019_CMCS_LandCoverRegion_GTHA.shp')"
   ]
  },
  {
   "cell_type": "markdown",
   "metadata": {},
   "source": [
    "## Entropy analysis"
   ]
  },
  {
   "cell_type": "markdown",
   "metadata": {},
   "source": [
    "The input parameters. See page 7 of the documentation for more details."
   ]
  },
  {
   "cell_type": "code",
   "execution_count": 23,
   "metadata": {},
   "outputs": [],
   "source": [
    "lu = dmti_gtha.copy()\n",
    "grid = gpd.read_file(r\"squares_gtha_1km.shp\")\n",
    "uid_lc = \"CATEGORY\"\n",
    "uid_grid=\"FID\"\n",
    "temp_path=r\".\\temp_land_use_calc\""
   ]
  },
  {
   "cell_type": "code",
   "execution_count": 24,
   "metadata": {},
   "outputs": [
    {
     "data": {
      "text/html": [
       "<div>\n",
       "<style scoped>\n",
       "    .dataframe tbody tr th:only-of-type {\n",
       "        vertical-align: middle;\n",
       "    }\n",
       "\n",
       "    .dataframe tbody tr th {\n",
       "        vertical-align: top;\n",
       "    }\n",
       "\n",
       "    .dataframe thead th {\n",
       "        text-align: right;\n",
       "    }\n",
       "</style>\n",
       "<table border=\"1\" class=\"dataframe\">\n",
       "  <thead>\n",
       "    <tr style=\"text-align: right;\">\n",
       "      <th></th>\n",
       "      <th>FID</th>\n",
       "      <th>geometry</th>\n",
       "    </tr>\n",
       "  </thead>\n",
       "  <tbody>\n",
       "    <tr>\n",
       "      <th>0</th>\n",
       "      <td>0</td>\n",
       "      <td>POLYGON ((-79.78931 43.06536, -79.78931 43.080...</td>\n",
       "    </tr>\n",
       "    <tr>\n",
       "      <th>1</th>\n",
       "      <td>1</td>\n",
       "      <td>POLYGON ((-79.77450 43.06536, -79.77450 43.080...</td>\n",
       "    </tr>\n",
       "    <tr>\n",
       "      <th>2</th>\n",
       "      <td>2</td>\n",
       "      <td>POLYGON ((-79.83374 43.08017, -79.83374 43.094...</td>\n",
       "    </tr>\n",
       "    <tr>\n",
       "      <th>3</th>\n",
       "      <td>3</td>\n",
       "      <td>POLYGON ((-79.81893 43.08017, -79.81893 43.094...</td>\n",
       "    </tr>\n",
       "    <tr>\n",
       "      <th>4</th>\n",
       "      <td>4</td>\n",
       "      <td>POLYGON ((-79.80412 43.08017, -79.80412 43.094...</td>\n",
       "    </tr>\n",
       "    <tr>\n",
       "      <th>...</th>\n",
       "      <td>...</td>\n",
       "      <td>...</td>\n",
       "    </tr>\n",
       "    <tr>\n",
       "      <th>4139</th>\n",
       "      <td>4139</td>\n",
       "      <td>POLYGON ((-79.09324 44.47232, -79.09324 44.487...</td>\n",
       "    </tr>\n",
       "    <tr>\n",
       "      <th>4140</th>\n",
       "      <td>4140</td>\n",
       "      <td>POLYGON ((-79.13767 44.48713, -79.13767 44.501...</td>\n",
       "    </tr>\n",
       "    <tr>\n",
       "      <th>4141</th>\n",
       "      <td>4141</td>\n",
       "      <td>POLYGON ((-79.12286 44.48713, -79.12286 44.501...</td>\n",
       "    </tr>\n",
       "    <tr>\n",
       "      <th>4142</th>\n",
       "      <td>4142</td>\n",
       "      <td>POLYGON ((-79.10805 44.48713, -79.10805 44.501...</td>\n",
       "    </tr>\n",
       "    <tr>\n",
       "      <th>4143</th>\n",
       "      <td>4143</td>\n",
       "      <td>POLYGON ((-79.09324 44.48713, -79.09324 44.501...</td>\n",
       "    </tr>\n",
       "  </tbody>\n",
       "</table>\n",
       "<p>4144 rows × 2 columns</p>\n",
       "</div>"
      ],
      "text/plain": [
       "       FID                                           geometry\n",
       "0        0  POLYGON ((-79.78931 43.06536, -79.78931 43.080...\n",
       "1        1  POLYGON ((-79.77450 43.06536, -79.77450 43.080...\n",
       "2        2  POLYGON ((-79.83374 43.08017, -79.83374 43.094...\n",
       "3        3  POLYGON ((-79.81893 43.08017, -79.81893 43.094...\n",
       "4        4  POLYGON ((-79.80412 43.08017, -79.80412 43.094...\n",
       "...    ...                                                ...\n",
       "4139  4139  POLYGON ((-79.09324 44.47232, -79.09324 44.487...\n",
       "4140  4140  POLYGON ((-79.13767 44.48713, -79.13767 44.501...\n",
       "4141  4141  POLYGON ((-79.12286 44.48713, -79.12286 44.501...\n",
       "4142  4142  POLYGON ((-79.10805 44.48713, -79.10805 44.501...\n",
       "4143  4143  POLYGON ((-79.09324 44.48713, -79.09324 44.501...\n",
       "\n",
       "[4144 rows x 2 columns]"
      ]
     },
     "execution_count": 24,
     "metadata": {},
     "output_type": "execute_result"
    }
   ],
   "source": [
    "grid"
   ]
  },
  {
   "cell_type": "code",
   "execution_count": 25,
   "metadata": {},
   "outputs": [],
   "source": [
    "grid.to_crs(epsg=3348, inplace=True)\n",
    "lu.to_crs(epsg=3348, inplace=True)"
   ]
  },
  {
   "cell_type": "markdown",
   "metadata": {},
   "source": [
    "## Define the class for the land use mix indices"
   ]
  },
  {
   "cell_type": "markdown",
   "metadata": {},
   "source": [
    "The main part of the application. The \"lum\" class contains two functions for the calculation of a land use mix index: One for the entropy index and one for the HHI. It also uses an intermediate function that does some standard geoprocessing operations that are useful for both other functions. See the documentation for more details."
   ]
  },
  {
   "cell_type": "code",
   "execution_count": 26,
   "metadata": {},
   "outputs": [],
   "source": [
    "class lum:\n",
    "    def __init__(self,lu,grid,uid_lc,uid_grid,temp_path):\n",
    "        self.lu = lu\n",
    "        self.grid = grid\n",
    "        self.uid_lc = uid_lc\n",
    "        self.uid_grid = uid_grid\n",
    "        self.temp_path = temp_path\n",
    "    \n",
    "    def intermediate(self):\n",
    "        intersection = gpd.overlay(self.lu,self.grid,how = 'intersection')\n",
    "        dissolved = intersection.dissolve(by = [self.uid_lc,self.uid_grid])\n",
    "    \n",
    "        dissolved['poly_area'] = dissolved.area\n",
    "        dissolved.to_file(os.path.join(self.temp_path,\"dissolved.shp\"))\n",
    "    \n",
    "        dissolved_new = gpd.read_file(os.path.join(self.temp_path,\"dissolved.shp\"))\n",
    "        area_sum = dissolved_new[[self.uid_grid, \"poly_area\"]].groupby(self.uid_grid).sum()\n",
    "    \n",
    "        dissolved_new = dissolved_new.merge(area_sum, on = self.uid_grid)\n",
    "        dissolved_new.rename(columns = {'poly_area_y':'total_area_cell'}, inplace = True) \n",
    "    \n",
    "        ratios = (dissolved_new[\"poly_area_x\"]/dissolved_new[\"total_area_cell\"])\n",
    "        \n",
    "        num_classes_per_grid_feature = dissolved_new[[self.uid_grid, uid_lc]].groupby(self.uid_grid).count()\n",
    "        \n",
    "        return dissolved_new,ratios,num_classes_per_grid_feature,intersection\n",
    "    \n",
    "    def entropy(self):\n",
    "        dataset = self.intermediate()[0]\n",
    "        ratios_c = self.intermediate()[1]\n",
    "        nuclapegrif=self.intermediate()[2]\n",
    "        \n",
    "        log_ratios = log(ratios_c)\n",
    "        dataset['area_perc_log'] = log_ratios*ratios_c\n",
    "        \n",
    "        ln_num_classes_per_grid_feature = log(nuclapegrif)\n",
    "        \n",
    "        sum_logs = dataset[[self.uid_grid, \"area_perc_log\"]].groupby(self.uid_grid).sum()\n",
    "        \n",
    "        sum_logs_merged_ln_num_classes = sum_logs.merge(ln_num_classes_per_grid_feature,on = self.uid_grid)\n",
    "        \n",
    "        sum_logs_merged_ln_num_classes['ENTROPY'] = -1*(sum_logs_merged_ln_num_classes['area_perc_log']/sum_logs_merged_ln_num_classes[self.uid_lc])\n",
    "        \n",
    "        grid_final_entropy = (self.grid).merge(sum_logs_merged_ln_num_classes,on = self.uid_grid)\n",
    "        \n",
    "        return grid_final_entropy\n",
    "    \n",
    "    def hhi(self):\n",
    "        dataset = self.intermediate()[0]\n",
    "        ratios_c = self.intermediate()[1]\n",
    "        hhi = ((ratios_c))*2\n",
    "        \n",
    "        dataset['HHI'] = hhi\n",
    "        \n",
    "        sum_squared_ratios = dataset[[self.uid_grid, \"HHI\"]].groupby(self.uid_grid).sum()\n",
    "        grid_final_hhi = (self.grid).merge(sum_squared_ratios,on = self.uid_grid)\n",
    "        \n",
    "        return grid_final_hhi"
   ]
  },
  {
   "cell_type": "markdown",
   "metadata": {},
   "source": [
    "## Applying some examples"
   ]
  },
  {
   "cell_type": "markdown",
   "metadata": {},
   "source": [
    "We create an instance of the lum class and then we use the two functions for the calculations of land use mix. For both cases, we export the result into a shapefile. We can also do a basic plot of the result."
   ]
  },
  {
   "cell_type": "code",
   "execution_count": 27,
   "metadata": {},
   "outputs": [],
   "source": [
    "l=lum(lu,grid,uid_lc,uid_grid,temp_path)"
   ]
  },
  {
   "cell_type": "code",
   "execution_count": 28,
   "metadata": {},
   "outputs": [
    {
     "name": "stderr",
     "output_type": "stream",
     "text": [
      "c:\\Users\\mwendwa.kiko\\Anaconda3\\envs\\geopandasenv_kiko\\lib\\site-packages\\geopandas\\geoseries.py:843: FutureWarning: iteritems is deprecated and will be removed in a future version. Use .items instead.\n",
      "  for idx, s in self.geometry.iteritems():\n",
      "c:\\Users\\mwendwa.kiko\\Anaconda3\\envs\\geopandasenv_kiko\\lib\\site-packages\\geopandas\\geoseries.py:843: FutureWarning: iteritems is deprecated and will be removed in a future version. Use .items instead.\n",
      "  for idx, s in self.geometry.iteritems():\n",
      "c:\\Users\\mwendwa.kiko\\Anaconda3\\envs\\geopandasenv_kiko\\lib\\site-packages\\geopandas\\io\\file.py:299: FutureWarning: pandas.Int64Index is deprecated and will be removed from pandas in a future version. Use pandas.Index with the appropriate dtype instead.\n",
      "  pd.Int64Index,\n"
     ]
    }
   ],
   "source": [
    "shape_hhi=l.hhi()\n",
    "\n",
    "shape_hhi.to_file('SF_land_use_hhi_dmti.shp')"
   ]
  },
  {
   "cell_type": "code",
   "execution_count": 31,
   "metadata": {},
   "outputs": [
    {
     "name": "stderr",
     "output_type": "stream",
     "text": [
      "c:\\Users\\mwendwa.kiko\\Anaconda3\\envs\\geopandasenv_kiko\\lib\\site-packages\\geopandas\\geoseries.py:843: FutureWarning: iteritems is deprecated and will be removed in a future version. Use .items instead.\n",
      "  for idx, s in self.geometry.iteritems():\n",
      "c:\\Users\\mwendwa.kiko\\Anaconda3\\envs\\geopandasenv_kiko\\lib\\site-packages\\geopandas\\geoseries.py:843: FutureWarning: iteritems is deprecated and will be removed in a future version. Use .items instead.\n",
      "  for idx, s in self.geometry.iteritems():\n",
      "c:\\Users\\mwendwa.kiko\\Anaconda3\\envs\\geopandasenv_kiko\\lib\\site-packages\\geopandas\\geoseries.py:843: FutureWarning: iteritems is deprecated and will be removed in a future version. Use .items instead.\n",
      "  for idx, s in self.geometry.iteritems():\n",
      "c:\\Users\\mwendwa.kiko\\Anaconda3\\envs\\geopandasenv_kiko\\lib\\site-packages\\geopandas\\io\\file.py:299: FutureWarning: pandas.Int64Index is deprecated and will be removed from pandas in a future version. Use pandas.Index with the appropriate dtype instead.\n",
      "  pd.Int64Index,\n",
      "C:\\Users\\mwendwa.kiko\\AppData\\Local\\Temp\\ipykernel_3700\\1695557207.py:3: UserWarning: Column names longer than 10 characters will be truncated when saved to ESRI Shapefile.\n",
      "  shape_entropy.to_file('SF_land_use_entropy_dmti.shp')\n"
     ]
    },
    {
     "data": {
      "text/plain": [
       "<AxesSubplot:>"
      ]
     },
     "execution_count": 31,
     "metadata": {},
     "output_type": "execute_result"
    },
    {
     "data": {
      "image/png": "[encoded data removed]",
      "text/plain": [
       "<Figure size 640x480 with 1 Axes>"
      ]
     },
     "metadata": {},
     "output_type": "display_data"
    }
   ],
   "source": [
    "shape_entropy=l.entropy()\n",
    "\n",
    "shape_entropy.to_file('SF_land_use_entropy_dmti.shp')\n",
    "\n",
    "shape_entropy.plot(column=\"ENTROPY\",cmap='Reds')"
   ]
  },
  {
   "cell_type": "code",
   "execution_count": 32,
   "metadata": {},
   "outputs": [
    {
     "data": {
      "text/html": [
       "<div>\n",
       "<style scoped>\n",
       "    .dataframe tbody tr th:only-of-type {\n",
       "        vertical-align: middle;\n",
       "    }\n",
       "\n",
       "    .dataframe tbody tr th {\n",
       "        vertical-align: top;\n",
       "    }\n",
       "\n",
       "    .dataframe thead th {\n",
       "        text-align: right;\n",
       "    }\n",
       "</style>\n",
       "<table border=\"1\" class=\"dataframe\">\n",
       "  <thead>\n",
       "    <tr style=\"text-align: right;\">\n",
       "      <th></th>\n",
       "      <th>FID</th>\n",
       "      <th>geometry</th>\n",
       "      <th>area_perc_log</th>\n",
       "      <th>CATEGORY</th>\n",
       "      <th>ENTROPY</th>\n",
       "    </tr>\n",
       "  </thead>\n",
       "  <tbody>\n",
       "    <tr>\n",
       "      <th>0</th>\n",
       "      <td>0</td>\n",
       "      <td>POLYGON ((7204530.003 856476.081, 7204211.012 ...</td>\n",
       "      <td>-0.017128</td>\n",
       "      <td>0.693147</td>\n",
       "      <td>0.024710</td>\n",
       "    </tr>\n",
       "    <tr>\n",
       "      <th>1</th>\n",
       "      <td>1</td>\n",
       "      <td>POLYGON ((7205746.956 856710.117, 7205427.578 ...</td>\n",
       "      <td>0.000000</td>\n",
       "      <td>0.000000</td>\n",
       "      <td>NaN</td>\n",
       "    </tr>\n",
       "    <tr>\n",
       "      <th>2</th>\n",
       "      <td>2</td>\n",
       "      <td>POLYGON ((7200560.985 857435.646, 7200243.176 ...</td>\n",
       "      <td>-0.017295</td>\n",
       "      <td>0.693147</td>\n",
       "      <td>0.024951</td>\n",
       "    </tr>\n",
       "    <tr>\n",
       "      <th>3</th>\n",
       "      <td>3</td>\n",
       "      <td>POLYGON ((7201777.715 857668.758, 7201459.520 ...</td>\n",
       "      <td>-0.246758</td>\n",
       "      <td>1.098612</td>\n",
       "      <td>0.224609</td>\n",
       "    </tr>\n",
       "    <tr>\n",
       "      <th>4</th>\n",
       "      <td>4</td>\n",
       "      <td>POLYGON ((7202994.390 857902.154, 7202675.809 ...</td>\n",
       "      <td>0.000000</td>\n",
       "      <td>0.000000</td>\n",
       "      <td>NaN</td>\n",
       "    </tr>\n",
       "    <tr>\n",
       "      <th>...</th>\n",
       "      <td>...</td>\n",
       "      <td>...</td>\n",
       "      <td>...</td>\n",
       "      <td>...</td>\n",
       "      <td>...</td>\n",
       "    </tr>\n",
       "    <tr>\n",
       "      <th>4019</th>\n",
       "      <td>4136</td>\n",
       "      <td>POLYGON ((7226214.317 1023862.732, 7225880.626...</td>\n",
       "      <td>-0.013599</td>\n",
       "      <td>0.693147</td>\n",
       "      <td>0.019620</td>\n",
       "    </tr>\n",
       "    <tr>\n",
       "      <th>4020</th>\n",
       "      <td>4137</td>\n",
       "      <td>POLYGON ((7227392.295 1024101.813, 7227058.222...</td>\n",
       "      <td>0.000000</td>\n",
       "      <td>0.000000</td>\n",
       "      <td>NaN</td>\n",
       "    </tr>\n",
       "    <tr>\n",
       "      <th>4021</th>\n",
       "      <td>4138</td>\n",
       "      <td>POLYGON ((7228570.218 1024341.168, 7228235.761...</td>\n",
       "      <td>0.000000</td>\n",
       "      <td>0.000000</td>\n",
       "      <td>NaN</td>\n",
       "    </tr>\n",
       "    <tr>\n",
       "      <th>4022</th>\n",
       "      <td>4140</td>\n",
       "      <td>POLYGON ((7225880.626 1025507.848, 7225546.959...</td>\n",
       "      <td>0.000000</td>\n",
       "      <td>0.000000</td>\n",
       "      <td>NaN</td>\n",
       "    </tr>\n",
       "    <tr>\n",
       "      <th>4023</th>\n",
       "      <td>4141</td>\n",
       "      <td>POLYGON ((7227058.222 1025746.851, 7226724.171...</td>\n",
       "      <td>0.000000</td>\n",
       "      <td>0.000000</td>\n",
       "      <td>NaN</td>\n",
       "    </tr>\n",
       "  </tbody>\n",
       "</table>\n",
       "<p>4024 rows × 5 columns</p>\n",
       "</div>"
      ],
      "text/plain": [
       "       FID                                           geometry  area_perc_log  \\\n",
       "0        0  POLYGON ((7204530.003 856476.081, 7204211.012 ...      -0.017128   \n",
       "1        1  POLYGON ((7205746.956 856710.117, 7205427.578 ...       0.000000   \n",
       "2        2  POLYGON ((7200560.985 857435.646, 7200243.176 ...      -0.017295   \n",
       "3        3  POLYGON ((7201777.715 857668.758, 7201459.520 ...      -0.246758   \n",
       "4        4  POLYGON ((7202994.390 857902.154, 7202675.809 ...       0.000000   \n",
       "...    ...                                                ...            ...   \n",
       "4019  4136  POLYGON ((7226214.317 1023862.732, 7225880.626...      -0.013599   \n",
       "4020  4137  POLYGON ((7227392.295 1024101.813, 7227058.222...       0.000000   \n",
       "4021  4138  POLYGON ((7228570.218 1024341.168, 7228235.761...       0.000000   \n",
       "4022  4140  POLYGON ((7225880.626 1025507.848, 7225546.959...       0.000000   \n",
       "4023  4141  POLYGON ((7227058.222 1025746.851, 7226724.171...       0.000000   \n",
       "\n",
       "      CATEGORY   ENTROPY  \n",
       "0     0.693147  0.024710  \n",
       "1     0.000000       NaN  \n",
       "2     0.693147  0.024951  \n",
       "3     1.098612  0.224609  \n",
       "4     0.000000       NaN  \n",
       "...        ...       ...  \n",
       "4019  0.693147  0.019620  \n",
       "4020  0.000000       NaN  \n",
       "4021  0.000000       NaN  \n",
       "4022  0.000000       NaN  \n",
       "4023  0.000000       NaN  \n",
       "\n",
       "[4024 rows x 5 columns]"
      ]
     },
     "execution_count": 32,
     "metadata": {},
     "output_type": "execute_result"
    }
   ],
   "source": [
    "shape_entropy"
   ]
  },
  {
   "cell_type": "code",
   "execution_count": 34,
   "metadata": {},
   "outputs": [
    {
     "data": {
      "text/plain": [
       "462"
      ]
     },
     "execution_count": 34,
     "metadata": {},
     "output_type": "execute_result"
    }
   ],
   "source": [
    "shape_entropy.ENTROPY.isna().sum()"
   ]
  },
  {
   "cell_type": "code",
   "execution_count": 35,
   "metadata": {},
   "outputs": [
    {
     "data": {
      "text/plain": [
       "3562"
      ]
     },
     "execution_count": 35,
     "metadata": {},
     "output_type": "execute_result"
    }
   ],
   "source": [
    "shape_entropy.ENTROPY.notna().sum()"
   ]
  },
  {
   "cell_type": "code",
   "execution_count": null,
   "metadata": {},
   "outputs": [],
   "source": []
  },
  {
   "cell_type": "markdown",
   "metadata": {},
   "source": [
    "# After running entropy calculation"
   ]
  },
  {
   "cell_type": "code",
   "execution_count": null,
   "metadata": {},
   "outputs": [],
   "source": []
  },
  {
   "cell_type": "code",
   "execution_count": 49,
   "metadata": {},
   "outputs": [],
   "source": [
    "# Fill in the missing values with the median entropy value\n",
    "shape_entropy_backup = shape_entropy.copy()\n",
    "shape_entropy['ENTROPY'] = shape_entropy['ENTROPY'].fillna(shape_entropy['ENTROPY'].median())"
   ]
  },
  {
   "cell_type": "code",
   "execution_count": 63,
   "metadata": {},
   "outputs": [],
   "source": [
    "shape_entropy = shape_entropy_backup.copy()\n",
    "shape_entropy.dropna(subset=['ENTROPY'], inplace=True)"
   ]
  },
  {
   "cell_type": "code",
   "execution_count": 57,
   "metadata": {},
   "outputs": [
    {
     "data": {
      "text/plain": [
       "<Projected CRS: EPSG:3348>\n",
       "Name: NAD83(CSRS) / Statistics Canada Lambert\n",
       "Axis Info [cartesian]:\n",
       "- E[east]: Easting (metre)\n",
       "- N[north]: Northing (metre)\n",
       "Area of Use:\n",
       "- name: Canada\n",
       "- bounds: (-141.01, 40.04, -47.74, 86.46)\n",
       "Coordinate Operation:\n",
       "- name: Statistics Canada Lambert\n",
       "- method: Lambert Conic Conformal (2SP)\n",
       "Datum: NAD83 Canadian Spatial Reference System\n",
       "- Ellipsoid: GRS 1980\n",
       "- Prime Meridian: Greenwich"
      ]
     },
     "execution_count": 57,
     "metadata": {},
     "output_type": "execute_result"
    }
   ],
   "source": [
    "shape_entropy.crs"
   ]
  },
  {
   "cell_type": "code",
   "execution_count": 40,
   "metadata": {},
   "outputs": [],
   "source": [
    "# shape_entropy.to_crs(epsg=3348, inplace=True)"
   ]
  },
  {
   "cell_type": "code",
   "execution_count": 66,
   "metadata": {},
   "outputs": [
    {
     "data": {
      "text/html": [
       "<div>\n",
       "<style scoped>\n",
       "    .dataframe tbody tr th:only-of-type {\n",
       "        vertical-align: middle;\n",
       "    }\n",
       "\n",
       "    .dataframe tbody tr th {\n",
       "        vertical-align: top;\n",
       "    }\n",
       "\n",
       "    .dataframe thead th {\n",
       "        text-align: right;\n",
       "    }\n",
       "</style>\n",
       "<table border=\"1\" class=\"dataframe\">\n",
       "  <thead>\n",
       "    <tr style=\"text-align: right;\">\n",
       "      <th></th>\n",
       "      <th>FID</th>\n",
       "      <th>geometry</th>\n",
       "      <th>area_perc_log</th>\n",
       "      <th>CATEGORY</th>\n",
       "      <th>ENTROPY</th>\n",
       "      <th>Centroids</th>\n",
       "    </tr>\n",
       "  </thead>\n",
       "  <tbody>\n",
       "    <tr>\n",
       "      <th>0</th>\n",
       "      <td>0</td>\n",
       "      <td>POLYGON ((7204530.003 856476.081, 7204211.012 ...</td>\n",
       "      <td>-0.017128</td>\n",
       "      <td>0.693147</td>\n",
       "      <td>0.024710</td>\n",
       "      <td>POINT (7204978.896 857422.912)</td>\n",
       "    </tr>\n",
       "    <tr>\n",
       "      <th>2</th>\n",
       "      <td>2</td>\n",
       "      <td>POLYGON ((7200560.985 857435.646, 7200243.176 ...</td>\n",
       "      <td>-0.017295</td>\n",
       "      <td>0.693147</td>\n",
       "      <td>0.024951</td>\n",
       "      <td>POINT (7201010.358 858382.065)</td>\n",
       "    </tr>\n",
       "    <tr>\n",
       "      <th>3</th>\n",
       "      <td>3</td>\n",
       "      <td>POLYGON ((7201777.715 857668.758, 7201459.520 ...</td>\n",
       "      <td>-0.246758</td>\n",
       "      <td>1.098612</td>\n",
       "      <td>0.224609</td>\n",
       "      <td>POINT (7202226.867 858615.282)</td>\n",
       "    </tr>\n",
       "    <tr>\n",
       "      <th>6</th>\n",
       "      <td>6</td>\n",
       "      <td>POLYGON ((7205427.578 858369.794, 7205108.224 ...</td>\n",
       "      <td>-0.010813</td>\n",
       "      <td>0.693147</td>\n",
       "      <td>0.015600</td>\n",
       "      <td>POINT (7205876.069 859316.631)</td>\n",
       "    </tr>\n",
       "    <tr>\n",
       "      <th>9</th>\n",
       "      <td>9</td>\n",
       "      <td>POLYGON ((7197810.327 858630.271, 7197493.315 ...</td>\n",
       "      <td>-0.292333</td>\n",
       "      <td>1.098612</td>\n",
       "      <td>0.266093</td>\n",
       "      <td>POINT (7198259.959 859576.382)</td>\n",
       "    </tr>\n",
       "    <tr>\n",
       "      <th>...</th>\n",
       "      <td>...</td>\n",
       "      <td>...</td>\n",
       "      <td>...</td>\n",
       "      <td>...</td>\n",
       "      <td>...</td>\n",
       "      <td>...</td>\n",
       "    </tr>\n",
       "    <tr>\n",
       "      <th>4001</th>\n",
       "      <td>4106</td>\n",
       "      <td>POLYGON ((7230752.744 1019645.463, 7230417.834...</td>\n",
       "      <td>-0.065028</td>\n",
       "      <td>0.693147</td>\n",
       "      <td>0.093815</td>\n",
       "      <td>POINT (7231174.682 1020588.081)</td>\n",
       "    </tr>\n",
       "    <tr>\n",
       "      <th>4005</th>\n",
       "      <td>4122</td>\n",
       "      <td>POLYGON ((7224524.112 1020094.509, 7224191.141...</td>\n",
       "      <td>-0.441812</td>\n",
       "      <td>0.693147</td>\n",
       "      <td>0.637400</td>\n",
       "      <td>POINT (7224946.968 1021036.538)</td>\n",
       "    </tr>\n",
       "    <tr>\n",
       "      <th>4006</th>\n",
       "      <td>4123</td>\n",
       "      <td>POLYGON ((7225702.968 1020333.196, 7225369.614...</td>\n",
       "      <td>-0.066816</td>\n",
       "      <td>0.693147</td>\n",
       "      <td>0.096396</td>\n",
       "      <td>POINT (7226125.604 1021275.324)</td>\n",
       "    </tr>\n",
       "    <tr>\n",
       "      <th>4018</th>\n",
       "      <td>4135</td>\n",
       "      <td>POLYGON ((7225036.283 1023623.926, 7224702.976...</td>\n",
       "      <td>-0.011985</td>\n",
       "      <td>0.693147</td>\n",
       "      <td>0.017290</td>\n",
       "      <td>POINT (7225458.560 1024565.862)</td>\n",
       "    </tr>\n",
       "    <tr>\n",
       "      <th>4019</th>\n",
       "      <td>4136</td>\n",
       "      <td>POLYGON ((7226214.317 1023862.732, 7225880.626...</td>\n",
       "      <td>-0.013599</td>\n",
       "      <td>0.693147</td>\n",
       "      <td>0.019620</td>\n",
       "      <td>POINT (7226636.374 1024804.766)</td>\n",
       "    </tr>\n",
       "  </tbody>\n",
       "</table>\n",
       "<p>3562 rows × 6 columns</p>\n",
       "</div>"
      ],
      "text/plain": [
       "       FID                                           geometry  area_perc_log  \\\n",
       "0        0  POLYGON ((7204530.003 856476.081, 7204211.012 ...      -0.017128   \n",
       "2        2  POLYGON ((7200560.985 857435.646, 7200243.176 ...      -0.017295   \n",
       "3        3  POLYGON ((7201777.715 857668.758, 7201459.520 ...      -0.246758   \n",
       "6        6  POLYGON ((7205427.578 858369.794, 7205108.224 ...      -0.010813   \n",
       "9        9  POLYGON ((7197810.327 858630.271, 7197493.315 ...      -0.292333   \n",
       "...    ...                                                ...            ...   \n",
       "4001  4106  POLYGON ((7230752.744 1019645.463, 7230417.834...      -0.065028   \n",
       "4005  4122  POLYGON ((7224524.112 1020094.509, 7224191.141...      -0.441812   \n",
       "4006  4123  POLYGON ((7225702.968 1020333.196, 7225369.614...      -0.066816   \n",
       "4018  4135  POLYGON ((7225036.283 1023623.926, 7224702.976...      -0.011985   \n",
       "4019  4136  POLYGON ((7226214.317 1023862.732, 7225880.626...      -0.013599   \n",
       "\n",
       "      CATEGORY   ENTROPY                        Centroids  \n",
       "0     0.693147  0.024710   POINT (7204978.896 857422.912)  \n",
       "2     0.693147  0.024951   POINT (7201010.358 858382.065)  \n",
       "3     1.098612  0.224609   POINT (7202226.867 858615.282)  \n",
       "6     0.693147  0.015600   POINT (7205876.069 859316.631)  \n",
       "9     1.098612  0.266093   POINT (7198259.959 859576.382)  \n",
       "...        ...       ...                              ...  \n",
       "4001  0.693147  0.093815  POINT (7231174.682 1020588.081)  \n",
       "4005  0.693147  0.637400  POINT (7224946.968 1021036.538)  \n",
       "4006  0.693147  0.096396  POINT (7226125.604 1021275.324)  \n",
       "4018  0.693147  0.017290  POINT (7225458.560 1024565.862)  \n",
       "4019  0.693147  0.019620  POINT (7226636.374 1024804.766)  \n",
       "\n",
       "[3562 rows x 6 columns]"
      ]
     },
     "execution_count": 66,
     "metadata": {},
     "output_type": "execute_result"
    }
   ],
   "source": [
    "shape_entropy['Centroids'] = shape_entropy.centroid\n",
    "shape_entropy"
   ]
  },
  {
   "cell_type": "code",
   "execution_count": 45,
   "metadata": {},
   "outputs": [
    {
     "name": "stderr",
     "output_type": "stream",
     "text": [
      "c:\\Users\\mwendwa.kiko\\Anaconda3\\envs\\geopandasenv_kiko\\lib\\site-packages\\pyproj\\crs\\crs.py:53: FutureWarning: '+init=<authority>:<code>' syntax is deprecated. '<authority>:<code>' is the preferred initialization method. When making the change, be mindful of axis order changes: https://pyproj4.github.io/pyproj/stable/gotchas.html#axis-order-changes-in-proj-6\n",
      "  return _prepare_from_string(\" \".join(pjargs))\n"
     ]
    }
   ],
   "source": [
    "gdf.crs = {'init' :'epsg:4326'}\n",
    "# shape_entropy.to_crs(3348, inplace=True)"
   ]
  },
  {
   "cell_type": "code",
   "execution_count": 69,
   "metadata": {},
   "outputs": [],
   "source": [
    "gdf.to_crs(epsg=3348, inplace=True)\n"
   ]
  },
  {
   "cell_type": "code",
   "execution_count": 64,
   "metadata": {},
   "outputs": [
    {
     "data": {
      "text/plain": [
       "count    3562.000000\n",
       "mean        0.342127\n",
       "std         0.273607\n",
       "min         0.000041\n",
       "25%         0.064984\n",
       "50%         0.321773\n",
       "75%         0.577764\n",
       "max         0.999987\n",
       "Name: ENTROPY, dtype: float64"
      ]
     },
     "execution_count": 64,
     "metadata": {},
     "output_type": "execute_result"
    }
   ],
   "source": [
    "shape_entropy['ENTROPY'].describe()"
   ]
  },
  {
   "cell_type": "code",
   "execution_count": 65,
   "metadata": {},
   "outputs": [
    {
     "data": {
      "text/plain": [
       "<AxesSubplot:>"
      ]
     },
     "execution_count": 65,
     "metadata": {},
     "output_type": "execute_result"
    },
    {
     "data": {
      "image/png": "[encoded data removed]",
      "text/plain": [
       "<Figure size 640x480 with 1 Axes>"
      ]
     },
     "metadata": {},
     "output_type": "display_data"
    }
   ],
   "source": [
    "shape_entropy['ENTROPY'].hist(bins=100)"
   ]
  },
  {
   "cell_type": "code",
   "execution_count": 71,
   "metadata": {},
   "outputs": [
    {
     "data": {
      "text/plain": [
       "0       0.487002\n",
       "1       0.518861\n",
       "2       0.798921\n",
       "3       0.640135\n",
       "4       0.487002\n",
       "          ...   \n",
       "2890    0.495581\n",
       "2891    0.603942\n",
       "2892    0.558124\n",
       "2893    0.506838\n",
       "2894    0.518861\n",
       "Name: entropy, Length: 2895, dtype: float64"
      ]
     },
     "execution_count": 71,
     "metadata": {},
     "output_type": "execute_result"
    }
   ],
   "source": [
    "def calculate_nearest_centroid(row):\n",
    "    nearest_centroid = shape_entropy['Centroids'].distance(row.geometry).idxmin()\n",
    "    return shape_entropy.loc[nearest_centroid, 'ENTROPY']\n",
    "\n",
    "df['entropy'] = gdf.apply(calculate_nearest_centroid, axis=1)\n",
    "df['entropy']"
   ]
  },
  {
   "cell_type": "code",
   "execution_count": 72,
   "metadata": {},
   "outputs": [
    {
     "data": {
      "text/plain": [
       "count    2895.000000\n",
       "mean        0.545689\n",
       "std         0.164404\n",
       "min         0.005111\n",
       "25%         0.466022\n",
       "50%         0.554727\n",
       "75%         0.670786\n",
       "max         0.999987\n",
       "Name: entropy, dtype: float64"
      ]
     },
     "execution_count": 72,
     "metadata": {},
     "output_type": "execute_result"
    }
   ],
   "source": [
    "df['entropy'].describe()"
   ]
  },
  {
   "cell_type": "code",
   "execution_count": 73,
   "metadata": {},
   "outputs": [
    {
     "data": {
      "text/plain": [
       "0"
      ]
     },
     "execution_count": 73,
     "metadata": {},
     "output_type": "execute_result"
    }
   ],
   "source": [
    "df['entropy'].isna().sum()"
   ]
  },
  {
   "cell_type": "code",
   "execution_count": 74,
   "metadata": {},
   "outputs": [],
   "source": [
    "df.to_pickle('df_persons_wsltur_with_entropy5.pkl')"
   ]
  },
  {
   "cell_type": "code",
   "execution_count": null,
   "metadata": {},
   "outputs": [],
   "source": []
  }
 ],
 "metadata": {
  "kernelspec": {
   "display_name": "geopandasenv_kiko",
   "language": "python",
   "name": "geopandasenv_kiko"
  },
  "language_info": {
   "codemirror_mode": {
    "name": "ipython",
    "version": 3
   },
   "file_extension": ".py",
   "mimetype": "text/x-python",
   "name": "python",
   "nbconvert_exporter": "python",
   "pygments_lexer": "ipython3",
   "version": "3.9.13"
  }
 },
 "nbformat": 4,
 "nbformat_minor": 2
}
